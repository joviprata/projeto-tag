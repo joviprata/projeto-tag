{
 "cells": [
  {
   "cell_type": "markdown",
   "id": "7f803a22-fd68-4c0e-a347-f5ef686681d5",
   "metadata": {},
   "source": [
    "#### Universidade de Brasília <br> Departamento de Ciência da Computação\n",
    "# Projeto 1:\n",
    "### Teoria e Aplicação de Grafos, Turma 01, 2025/1 <br> Prof. Díbio <br> Integrantes do Grupo: Bruno Henrique (), João Victor Prata (202028857), Manuela ()"
   ]
  },
  {
   "cell_type": "markdown",
   "id": "fe22bf9f-57d9-40b1-bd91-6a286f40ab67",
   "metadata": {},
   "source": [
    "## Importar Bibliotecas:"
   ]
  },
  {
   "cell_type": "code",
   "execution_count": 6,
   "id": "8aa14998-a6d7-4d53-8c2f-f8f8dc8f569c",
   "metadata": {},
   "outputs": [],
   "source": [
    "import networkx as nx\n",
    "import pandas as pd\n",
    "import matplotlib.pyplot as plt\n",
    "from networkx.algorithms.community import greedy_modularity_communities"
   ]
  },
  {
   "cell_type": "markdown",
   "id": "b05ad82e-899a-4a3d-8ff3-7078f55b05ff",
   "metadata": {},
   "source": [
    "## Coletar Dados:"
   ]
  },
  {
   "cell_type": "code",
   "execution_count": 9,
   "id": "87f572ce-b7ba-483f-bcf4-2c540e132482",
   "metadata": {},
   "outputs": [
    {
     "data": {
      "text/html": [
       "<div>\n",
       "<style scoped>\n",
       "    .dataframe tbody tr th:only-of-type {\n",
       "        vertical-align: middle;\n",
       "    }\n",
       "\n",
       "    .dataframe tbody tr th {\n",
       "        vertical-align: top;\n",
       "    }\n",
       "\n",
       "    .dataframe thead th {\n",
       "        text-align: right;\n",
       "    }\n",
       "</style>\n",
       "<table border=\"1\" class=\"dataframe\">\n",
       "  <thead>\n",
       "    <tr style=\"text-align: right;\">\n",
       "      <th></th>\n",
       "      <th>user1</th>\n",
       "      <th>user2</th>\n",
       "      <th>weight</th>\n",
       "    </tr>\n",
       "  </thead>\n",
       "  <tbody>\n",
       "    <tr>\n",
       "      <th>0</th>\n",
       "      <td>alice</td>\n",
       "      <td>bob</td>\n",
       "      <td>2</td>\n",
       "    </tr>\n",
       "    <tr>\n",
       "      <th>1</th>\n",
       "      <td>bob</td>\n",
       "      <td>charlie</td>\n",
       "      <td>1</td>\n",
       "    </tr>\n",
       "    <tr>\n",
       "      <th>2</th>\n",
       "      <td>charlie</td>\n",
       "      <td>alice</td>\n",
       "      <td>3</td>\n",
       "    </tr>\n",
       "    <tr>\n",
       "      <th>3</th>\n",
       "      <td>dave</td>\n",
       "      <td>alice</td>\n",
       "      <td>1</td>\n",
       "    </tr>\n",
       "    <tr>\n",
       "      <th>4</th>\n",
       "      <td>bob</td>\n",
       "      <td>alice</td>\n",
       "      <td>1</td>\n",
       "    </tr>\n",
       "    <tr>\n",
       "      <th>5</th>\n",
       "      <td>alice</td>\n",
       "      <td>charlie</td>\n",
       "      <td>2</td>\n",
       "    </tr>\n",
       "    <tr>\n",
       "      <th>6</th>\n",
       "      <td>charlie</td>\n",
       "      <td>bob</td>\n",
       "      <td>1</td>\n",
       "    </tr>\n",
       "    <tr>\n",
       "      <th>7</th>\n",
       "      <td>eve</td>\n",
       "      <td>alice</td>\n",
       "      <td>1</td>\n",
       "    </tr>\n",
       "    <tr>\n",
       "      <th>8</th>\n",
       "      <td>dave</td>\n",
       "      <td>charlie</td>\n",
       "      <td>2</td>\n",
       "    </tr>\n",
       "  </tbody>\n",
       "</table>\n",
       "</div>"
      ],
      "text/plain": [
       "     user1    user2  weight\n",
       "0    alice      bob       2\n",
       "1      bob  charlie       1\n",
       "2  charlie    alice       3\n",
       "3     dave    alice       1\n",
       "4      bob    alice       1\n",
       "5    alice  charlie       2\n",
       "6  charlie      bob       1\n",
       "7      eve    alice       1\n",
       "8     dave  charlie       2"
      ]
     },
     "metadata": {},
     "output_type": "display_data"
    }
   ],
   "source": [
    "#...\n",
    "# Load dataset (example format: user1, user2, weight)\n",
    "df = pd.read_csv('twitter_network.csv')\n",
    "display(df)"
   ]
  },
  {
   "cell_type": "markdown",
   "id": "226c6fe8-6d2c-4b2a-a6a3-728929f03cfc",
   "metadata": {},
   "source": [
    "## Construir Grafo:"
   ]
  },
  {
   "cell_type": "code",
   "execution_count": 26,
   "id": "286d5508-01cc-42c8-a3b0-f8d7d73fc87f",
   "metadata": {},
   "outputs": [
    {
     "data": {
      "image/png": "[encoded data removed]",
      "text/plain": [
       "<Figure size 640x480 with 1 Axes>"
      ]
     },
     "metadata": {},
     "output_type": "display_data"
    }
   ],
   "source": [
    "# Criar grafo direcionado:\n",
    "G = nx.DiGraph()\n",
    "for _, row in df.iterrows():\n",
    "    G.add_edge(row['user1'], row['user2'], weight=row['weight'])\n",
    "\n",
    "# Calcular PageRank:\n",
    "pagerank = nx.pagerank(G, alpha=0.85)\n",
    "\n",
    "# Detectar comunidades:\n",
    "communities = greedy_modularity_communities(G)\n",
    "\n",
    "# Layout dos nós:\n",
    "pos = nx.spring_layout(G, seed=42)\n",
    "\n",
    "# Desenhar os nós com tamanho proporcional ao PageRank:\n",
    "nx.draw_networkx_nodes(G, pos, node_size=500, node_color='skyblue')\n",
    "\n",
    "# Desenhar as arestas:\n",
    "nx.draw_networkx_edges(G, pos, arrowstyle='->', arrowsize=20)\n",
    "\n",
    "# Desenhar os rótulos dos nós (nomes dos usuários):\n",
    "nx.draw_networkx_labels(G, pos, font_size=10)\n",
    "\n",
    "# Desenhar os pesos das arestas:\n",
    "edge_weights = nx.get_edge_attributes(G, 'weight')\n",
    "nx.draw_networkx_edge_labels(G, pos, edge_labels=edge_weights, font_size=9)\n",
    "\n",
    "# Exibir o grafo:\n",
    "plt.title(\"Rede de Interações no Twitter:\")\n",
    "plt.axis('off')\n",
    "plt.tight_layout()\n",
    "plt.show()"
   ]
  }
 ],
 "metadata": {
  "kernelspec": {
   "display_name": "Python 3 (ipykernel)",
   "language": "python",
   "name": "python3"
  },
  "language_info": {
   "codemirror_mode": {
    "name": "ipython",
    "version": 3
   },
   "file_extension": ".py",
   "mimetype": "text/x-python",
   "name": "python",
   "nbconvert_exporter": "python",
   "pygments_lexer": "ipython3",
   "version": "3.11.5"
  }
 },
 "nbformat": 4,
 "nbformat_minor": 5
}
